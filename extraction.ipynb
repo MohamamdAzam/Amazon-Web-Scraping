{
 "cells": [
  {
   "cell_type": "code",
   "execution_count": 17,
   "id": "ed867c48-7ac7-4090-8921-80b88b36f74c",
   "metadata": {},
   "outputs": [],
   "source": [
    "from bs4 import BeautifulSoup\n",
    "import requests\n",
    "import json\n",
    "import pandas as pd"
   ]
  },
  {
   "cell_type": "code",
   "execution_count": 18,
   "id": "f72ca766-a70f-437d-9823-1c6f7a4d7ea7",
   "metadata": {},
   "outputs": [],
   "source": [
    "data= pd.read_csv(\"amazon_scraping.csv\")"
   ]
  },
  {
   "cell_type": "code",
   "execution_count": null,
   "id": "d0849d4b-2386-4172-8ad0-c25637bd9a18",
   "metadata": {},
   "outputs": [],
   "source": [
    "\n",
    "for i in range(1000):\n",
    "    Asin = data.Asin[i]\n",
    "    asin = Asin.replace(\"'\", \"\")\n",
    "    Country = data.country[i]\n",
    "    country = Country.replace(\"'\", \"\")\n",
    "    URL = f'https://www.amazon.{country}/dp/000{asin}'\n",
    "\n",
    "    headers = {\"User-Agent\": \"Mozilla/5.0 (Windows NT 10.0; WOW64) AppleWebKit/537.36 (KHTML, like Gecko) Chrome/104.0.0.0 Safari/537.36\", \"Accept-Encoding\":\"gzip, deflate\", \"Accept\":\"text/html,application/xhtml+xml,application/xml;q=0.9,*/*;q=0.8\", \"DNT\":\"1\",\"Connection\":\"close\", \"Upgrade-Insecure-Requests\":\"1\"}\n",
    "\n",
    "    page = requests.get(URL, headers=headers)\n",
    "\n",
    "    soup = BeautifulSoup(page.content, \"html.parser\")\n",
    "\n",
    "    if(soup.find(id='productTitle') == None):\n",
    "        continue\n",
    "    \n",
    "    title = soup.find(id='productTitle').get_text()\n",
    "\n",
    "    if(soup.find('span', 'a-offscreen') == None):\n",
    "        price = \"Price Unavailable\"\n",
    "    else:\n",
    "        price = soup.find('span', 'a-offscreen').text\n",
    "\n",
    "    if(soup.find(id = \"imgBlkFront\")== None):\n",
    "        image = \"Image Unavailable\"\n",
    "    else:\n",
    "        image = soup.find(id = \"imgBlkFront\")['src']\n",
    "\n",
    "    if (soup.find(id = \"detailBullets_feature_div\") == None):\n",
    "        details = \"No Details\"\n",
    "    else: \n",
    "        details1 = soup.find(id = \"detailBullets_feature_div\")\n",
    "        if (details1.ul == None):\n",
    "            details = \"No Details\"\n",
    "        else:\n",
    "            details2 = details1.ul.text\n",
    "            details = \" \".join(details2.split())\n",
    "    \n",
    "    dict = {'Title':title, 'Price':price, 'Image_URL':image, 'Details':details}\n",
    "    \n",
    "    def write_json(new_data, filename='products_data.json'):\n",
    "        with open(filename,'r+') as file:\n",
    "            file_data = json.load(file)\n",
    "            file_data[\"all_data\"].append(new_data)\n",
    "            file.seek(0)\n",
    "            json.dump(file_data, file, indent = 4)\n",
    "    \n",
    "    write_json(dict)"
   ]
  },
  {
   "cell_type": "code",
   "execution_count": null,
   "id": "8148426d-b00a-4a38-bdf6-915368711d29",
   "metadata": {},
   "outputs": [],
   "source": []
  }
 ],
 "metadata": {
  "kernelspec": {
   "display_name": "Python 3 (ipykernel)",
   "language": "python",
   "name": "python3"
  },
  "language_info": {
   "codemirror_mode": {
    "name": "ipython",
    "version": 3
   },
   "file_extension": ".py",
   "mimetype": "text/x-python",
   "name": "python",
   "nbconvert_exporter": "python",
   "pygments_lexer": "ipython3",
   "version": "3.9.12"
  }
 },
 "nbformat": 4,
 "nbformat_minor": 5
}
